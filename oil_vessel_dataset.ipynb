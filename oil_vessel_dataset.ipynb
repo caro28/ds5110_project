{
  "nbformat": 4,
  "nbformat_minor": 0,
  "metadata": {
    "colab": {
      "name": "oil_vessel_dataset.ipynb",
      "provenance": [],
      "collapsed_sections": [],
      "include_colab_link": true
    },
    "kernelspec": {
      "name": "python3",
      "display_name": "Python 3"
    },
    "language_info": {
      "name": "python"
    }
  },
  "cells": [
    {
      "cell_type": "markdown",
      "metadata": {
        "id": "view-in-github",
        "colab_type": "text"
      },
      "source": [
        "<a href=\"https://colab.research.google.com/github/caro28/ds5110_project/blob/main/oil_vessel_dataset.ipynb\" target=\"_parent\"><img src=\"https://colab.research.google.com/assets/colab-badge.svg\" alt=\"Open In Colab\"/></a>"
      ]
    },
    {
      "cell_type": "markdown",
      "metadata": {
        "id": "VNYM07ttGzBj"
      },
      "source": [
        "# Summary\n",
        "\n",
        "*   This file loads and merges two xlsx spreadsheets, which include oil vessel arrival data into Portland for 2020 and 2021.\n",
        "* In addition, it accounts for the possibility that future data will be received in new xlsx spreadsheets. Any new spreadsheets should be saved in the [data_vessels folder](https://github.com/ds5110/stinky/tree/master/vessels_data).\n",
        "*   Key columns are: Arrival date, Terminal (for final delivery), Product Type, Product Amount (Incoming and Outgoing)\n",
        "*   Possible key columns with empty or mostly empty data: Arrival time.\n",
        "*   Separate columns were added to look at dates more granularly.\n",
        "\n",
        "# Instructions for updating:\n",
        "First, in Excel: user uploading data from Excel should do the following first:\n",
        "\n",
        "1. data should be on one sheet only. if data is pulled from other sheets in Excel file, user should copy/paste (values only) data in place, then delete all other sheets.\n",
        "2. delete empty rows above column names.\n",
        "3. column names should be in one row only. Unmerge any merged rows that contain column names. Delete all unmerged rows that do not contain the main column name.\n",
        "4. ensure column names match the order of the sequence below. If not, then move columns so that they remain in this order. Do not rename columns to match names below; this notebook will rename them.\n",
        "\n",
        "> 'ARRIVAL DATE', 'ARRIVAL TIME (if avail)', 'TERMINAL', 'SHIP NAME', 'LAST PORT OF CALL (if avail)', 'PRODUCT TYPE - OIL', 'PRODUCT AMOUNT - OIL, Incoming (Multiply metric tons by 7.5 for approx bbls)', 'PRODUCT AMOUNT - OIL, Outgoing', 'RUNNING TOTAL (Oil)', 'PRODUCT TYPE - NON-OIL',\t'PRODUCT AMOUNT - NON OIL, Incoming', 'PRODUCT AMOUNT - NON OIL, Outgoing', 'Running Total (Specify units) (Non-Oil)'\n",
        "\n",
        "5. check that all dates have been entered correctly (e.g. original 2021 Excel file contained date \"2/13/20221\" - errors such as this should be fixed in Excel to 2/13/2021).\n",
        "6. Delete any empty rows at the end of the sheet.\n",
        "7.   save as csv.\n",
        "\n",
        "Second, on GitHub:\n",
        "\n",
        "1. If receive new data in a new spreadsheet: first, go through steps above in Excel.\n",
        "2. Upload new spreadsheet (csv) to [data_vessels folder](https://github.com/ds5110/stinky/tree/master/vessels_data). Filename does not matter but must end in '.csv'.\n",
        "3. Open this notebook in Google colab. \n",
        "4. Runtime --> Run all: this will download the updated df_vessels table.\n",
        "5. Save as df_vessels.csv and upload to [data folder](https://github.com/ds5110/stinky/tree/master/data). (Do not need to delete old df_vessels.csv file; GitHub will automatically replace with new file.)\n"
      ]
    },
    {
      "cell_type": "code",
      "metadata": {
        "id": "NgKSCYXdwOtI"
      },
      "source": [
        "# TODO: delete this cell if repo is made public\n",
        "\n",
        "# user: ADD GITHUB USERNAME AND PASSWORD HERE, inside quotation marks\n",
        "user_name = ''\n",
        "password = ''\n",
        "repo = 'ds5110/stinky'"
      ],
      "execution_count": 1,
      "outputs": []
    },
    {
      "cell_type": "code",
      "metadata": {
        "colab": {
          "base_uri": "https://localhost:8080/"
        },
        "id": "pHZAQg-i66YY",
        "outputId": "31e9c2f0-0db3-4074-83a5-1d276b409501"
      },
      "source": [
        "pip install PyGithub"
      ],
      "execution_count": 2,
      "outputs": [
        {
          "output_type": "stream",
          "text": [
            "Collecting PyGithub\n",
            "  Downloading PyGithub-1.55-py3-none-any.whl (291 kB)\n",
            "\u001b[K     |████████████████████████████████| 291 kB 5.2 MB/s \n",
            "\u001b[?25hCollecting pyjwt>=2.0\n",
            "  Downloading PyJWT-2.1.0-py3-none-any.whl (16 kB)\n",
            "Requirement already satisfied: requests>=2.14.0 in /usr/local/lib/python3.7/dist-packages (from PyGithub) (2.23.0)\n",
            "Collecting pynacl>=1.4.0\n",
            "  Downloading PyNaCl-1.4.0-cp35-abi3-manylinux1_x86_64.whl (961 kB)\n",
            "\u001b[K     |████████████████████████████████| 961 kB 37.3 MB/s \n",
            "\u001b[?25hCollecting deprecated\n",
            "  Downloading Deprecated-1.2.12-py2.py3-none-any.whl (9.5 kB)\n",
            "Requirement already satisfied: six in /usr/local/lib/python3.7/dist-packages (from pynacl>=1.4.0->PyGithub) (1.15.0)\n",
            "Requirement already satisfied: cffi>=1.4.1 in /usr/local/lib/python3.7/dist-packages (from pynacl>=1.4.0->PyGithub) (1.14.6)\n",
            "Requirement already satisfied: pycparser in /usr/local/lib/python3.7/dist-packages (from cffi>=1.4.1->pynacl>=1.4.0->PyGithub) (2.20)\n",
            "Requirement already satisfied: chardet<4,>=3.0.2 in /usr/local/lib/python3.7/dist-packages (from requests>=2.14.0->PyGithub) (3.0.4)\n",
            "Requirement already satisfied: idna<3,>=2.5 in /usr/local/lib/python3.7/dist-packages (from requests>=2.14.0->PyGithub) (2.10)\n",
            "Requirement already satisfied: urllib3!=1.25.0,!=1.25.1,<1.26,>=1.21.1 in /usr/local/lib/python3.7/dist-packages (from requests>=2.14.0->PyGithub) (1.24.3)\n",
            "Requirement already satisfied: certifi>=2017.4.17 in /usr/local/lib/python3.7/dist-packages (from requests>=2.14.0->PyGithub) (2021.5.30)\n",
            "Requirement already satisfied: wrapt<2,>=1.10 in /usr/local/lib/python3.7/dist-packages (from deprecated->PyGithub) (1.12.1)\n",
            "Installing collected packages: pynacl, pyjwt, deprecated, PyGithub\n",
            "Successfully installed PyGithub-1.55 deprecated-1.2.12 pyjwt-2.1.0 pynacl-1.4.0\n"
          ],
          "name": "stdout"
        }
      ]
    },
    {
      "cell_type": "code",
      "metadata": {
        "id": "Y7nufAOU6jK-"
      },
      "source": [
        "# TODO: temporary access through Caroline's GitHub - delete\n",
        "user_name = \"caro28\"\n",
        "password = \"phid-knod7gack5TURT\"\n",
        "\n",
        "# connect to vessels_data folder on GitHub\n",
        "def connect_to_git(user_name, password, repo):\n",
        "  from github import Github\n",
        "  # First create a Github instance:\n",
        "\n",
        "  g = Github(user_name, password)\n",
        "\n",
        "  repo = g.get_repo(repo)\n",
        "  return repo.get_contents('vessels_data')\n",
        "\n",
        "file_contents = connect_to_git(user_name, password, repo)"
      ],
      "execution_count": 40,
      "outputs": []
    },
    {
      "cell_type": "code",
      "metadata": {
        "id": "jnEwo6Yi80UO"
      },
      "source": [
        "import pandas as pd\n",
        "import string\n",
        "\n",
        "# get files in vessels_data and merge into one dataframe, df_vessels\n",
        "def get_data(file_contents):\n",
        "  collector = []\n",
        "  for file in file_contents:\n",
        "    collector.append(pd.read_csv(file.download_url, header=None, skiprows=1))\n",
        "  return pd.concat(collector, ignore_index=True)\n",
        "\n",
        "df_vessels = get_data(file_contents)"
      ],
      "execution_count": 41,
      "outputs": []
    },
    {
      "cell_type": "code",
      "metadata": {
        "id": "FgO79v-LXLIP"
      },
      "source": [
        "# rename columns\n",
        "col_names = ['ARRIVAL DATE', 'ARRIVAL TIME (if avail)', 'TERMINAL', \n",
        "             'SHIP NAME', 'LAST PORT OF CALL (if avail)', 'PRODUCT TYPE - OIL',\n",
        "             'PRODUCT AMOUNT - OIL, Incoming (Multiply metric tons by 7.5 for approx bbls)',\n",
        "             'PRODUCT AMOUNT - OIL, Outgoing', 'RUNNING TOTAL (Oil)',\n",
        "             'PRODUCT TYPE - NON-OIL', 'PRODUCT AMOUNT - NON OIL, Incoming',\n",
        "             'PRODUCT AMOUNT - NON OIL, Outgoing', 'Running Total (Specify units) (Non-Oil)']\n",
        "\n",
        "df_vessels.columns = col_names"
      ],
      "execution_count": 42,
      "outputs": []
    },
    {
      "cell_type": "code",
      "metadata": {
        "id": "SEAXdzyQGBOL"
      },
      "source": [
        "def separate_date_cols(df):\n",
        "  '''\n",
        "  Function: separate_date_cols()\n",
        "    Converts 'Arrival Date' column to datetime object and creates new, separate \n",
        "    columns for year, month, day, and month_name\n",
        "  Parameters:\n",
        "    df: (pandas.DataFrame object) input dataframe (df_vessels)\n",
        "  Returns:\n",
        "    None\n",
        "  '''\n",
        "  df['ARRIVAL DATE']=pd.to_datetime(df['ARRIVAL DATE'])\n",
        "  df['Year']=df['ARRIVAL DATE'].dt.year\n",
        "  df['Month']=df['ARRIVAL DATE'].dt.month\n",
        "  df['Day']=df['ARRIVAL DATE'].dt.day\n",
        "  df['Month_name'] = pd.to_datetime(df['Month'], format='%m').dt.month_name().str.slice(stop=3)\n",
        "\n",
        "def strip_char(df):\n",
        "  '''\n",
        "  Function: strip_char(df)\n",
        "    Removes digits and special characters from 'Product type - oil' column\n",
        "  Parameters:\n",
        "    df: (pandas.DataFrame object) input dataframe (df_vessels)\n",
        "  Returns:\n",
        "    None\n",
        "  '''\n",
        "  #df['PRODUCT TYPE - OIL'] = df['PRODUCT TYPE - OIL'].str.lstrip(string.digits) # Aishwarya will edit this line to keep product codes but edit formatting of 01, 02, 06 to match all other codes\n",
        "  df['PRODUCT TYPE - OIL'] = df['PRODUCT TYPE - OIL'].replace(['#','-'],'',regex=True)"
      ],
      "execution_count": 43,
      "outputs": []
    },
    {
      "cell_type": "code",
      "metadata": {
        "id": "mLwWhcwoX358"
      },
      "source": [
        "# create separate columns for year/month/day\n",
        "separate_date_cols(df_vessels)\n",
        "\n",
        "# strip characters from 'Product Type - Oil\"\n",
        "strip_char(df_vessels)"
      ],
      "execution_count": 44,
      "outputs": []
    },
    {
      "cell_type": "code",
      "metadata": {
        "id": "X8T8DWhX-9gh"
      },
      "source": [
        "# sort chronologically\n",
        "df_vessels=df_vessels.sort_values(by='ARRIVAL DATE')\n",
        "\n",
        "# reset index\n",
        "df_vessels=df_vessels.reset_index(drop=True)"
      ],
      "execution_count": 45,
      "outputs": []
    },
    {
      "cell_type": "code",
      "metadata": {
        "id": "3UNHesNNT8XY"
      },
      "source": [
        "def convert_float(col):\n",
        "  '''\n",
        "  Function: convert_float()\n",
        "  Parameters:\n",
        "    col: (pandas.Series object) column whose values will be converted to float\n",
        "  Returns:\n",
        "    (list) column values in a list, converted to float\n",
        "  '''\n",
        "  return [float(str(x).replace(',', '')) for x in col]\n",
        "\n",
        "def replace_nan_0(col):\n",
        "  '''\n",
        "  Function: replace_nan()\n",
        "    Replaces any NaN values in input with 0\n",
        "  Parameters:\n",
        "    col: (pandas.Series object) column whose NaN values will be replaced with 0\n",
        "  Returns:\n",
        "    None\n",
        "  '''\n",
        "  col.fillna(0, inplace=True)"
      ],
      "execution_count": 50,
      "outputs": []
    },
    {
      "cell_type": "code",
      "metadata": {
        "id": "FfX6aXpiLa8-"
      },
      "source": [
        "# convert numerical data columns to float\n",
        "df_vessels['PRODUCT AMOUNT - OIL, Incoming (Multiply metric tons by 7.5 for approx bbls)'] = convert_float(df_vessels['PRODUCT AMOUNT - OIL, Incoming (Multiply metric tons by 7.5 for approx bbls)'])\n",
        "df_vessels['PRODUCT AMOUNT - OIL, Outgoing'] = convert_float(df_vessels['PRODUCT AMOUNT - OIL, Outgoing'])\n",
        "df_vessels['Running Total (Specify units) (Non-Oil)'] = convert_float(df_vessels['Running Total (Specify units) (Non-Oil)'])\n",
        "\n",
        "# replace NaN with 0\n",
        "replace_nan_0(df_vessels['PRODUCT AMOUNT - OIL, Outgoing'])\n",
        "replace_nan_0(df_vessels['PRODUCT AMOUNT - OIL, Incoming (Multiply metric tons by 7.5 for approx bbls)'])\n",
        "replace_nan_0(df_vessels['PRODUCT AMOUNT - NON OIL, Incoming'])\n",
        "replace_nan_0(df_vessels['PRODUCT AMOUNT - NON OIL, Outgoing'])"
      ],
      "execution_count": 51,
      "outputs": []
    },
    {
      "cell_type": "code",
      "metadata": {
        "id": "uwPFFRdQDUC8"
      },
      "source": [
        "def correct_runningtotal(incoming, outgoing):\n",
        "  '''\n",
        "  Function: correct_runningtotal()\n",
        "    Re-calculates values in 'Running Total' columns (net cumulative sums), due \n",
        "    to errors in original values in Excel files and to maintain the cumulative\n",
        "    sum across merged spreadsheets.\n",
        "  Paramaters:\n",
        "    incoming: (pandas.Series object) column with values to be added to \n",
        "      cumulative sum\n",
        "    outgoing: (pandas.Series object) column with values to be subtracted from \n",
        "      cumulative sum\n",
        "  Returns:\n",
        "    running_total: (list) new values for 'Running total' columns\n",
        "  '''\n",
        "  running_total = []\n",
        "  net = incoming[0]\n",
        "  running_total.append(net)\n",
        "  for i in range(1, len(df_vessels)):\n",
        "    net += incoming[i]\n",
        "    net -= outgoing[i]\n",
        "    running_total.append(net)\n",
        "  return running_total"
      ],
      "execution_count": 11,
      "outputs": []
    },
    {
      "cell_type": "code",
      "metadata": {
        "id": "Ew-pHLQ4Ds9p"
      },
      "source": [
        "# correct 'Running total (Oil)'\n",
        "incoming = df_vessels['PRODUCT AMOUNT - OIL, Incoming (Multiply metric tons by 7.5 for approx bbls)']\n",
        "outgoing = df_vessels['PRODUCT AMOUNT - OIL, Outgoing']\n",
        "df_vessels['RUNNING TOTAL (Oil)'] = correct_runningtotal(incoming, outgoing)\n",
        "\n",
        "# correct 'Running total (Non-oil)'\n",
        "incoming = df_vessels['PRODUCT AMOUNT - NON OIL, Incoming']\n",
        "outgoing = df_vessels['PRODUCT AMOUNT - NON OIL, Outgoing']\n",
        "df_vessels['Running Total (Specify units) (Non-Oil)'] = correct_runningtotal(incoming, outgoing)"
      ],
      "execution_count": 12,
      "outputs": []
    },
    {
      "cell_type": "code",
      "metadata": {
        "colab": {
          "base_uri": "https://localhost:8080/"
        },
        "id": "3Ky8zxqe5U0b",
        "outputId": "2975253b-d5c1-43f0-9cc3-1df91be5bc69"
      },
      "source": [
        "df_vessels.isna().sum()"
      ],
      "execution_count": 13,
      "outputs": [
        {
          "output_type": "execute_result",
          "data": {
            "text/plain": [
              "ARRIVAL DATE                                                                      0\n",
              "ARRIVAL TIME (if avail)                                                         770\n",
              "TERMINAL                                                                          0\n",
              "SHIP NAME                                                                         0\n",
              "LAST PORT OF CALL (if avail)                                                     67\n",
              "PRODUCT TYPE - OIL                                                                0\n",
              "PRODUCT AMOUNT - OIL, Incoming (Multiply metric tons by 7.5 for approx bbls)      0\n",
              "PRODUCT AMOUNT - OIL, Outgoing                                                    0\n",
              "RUNNING TOTAL (Oil)                                                               0\n",
              "PRODUCT TYPE - NON-OIL                                                          770\n",
              "PRODUCT AMOUNT - NON OIL, Incoming                                                0\n",
              "PRODUCT AMOUNT - NON OIL, Outgoing                                                0\n",
              "Running Total (Specify units) (Non-Oil)                                           0\n",
              "Year                                                                              0\n",
              "Month                                                                             0\n",
              "Day                                                                               0\n",
              "Month_name                                                                        0\n",
              "dtype: int64"
            ]
          },
          "metadata": {},
          "execution_count": 13
        }
      ]
    },
    {
      "cell_type": "code",
      "metadata": {
        "id": "chS-a3gXjK45",
        "colab": {
          "base_uri": "https://localhost:8080/",
          "height": 17
        },
        "outputId": "75b9a930-8e62-4a7b-d401-52ba790345a0"
      },
      "source": [
        "# download tidied df to user's computer (local files)\n",
        "from google.colab import files\n",
        "df_vessels.to_csv('df_vessels.csv', index=False)\n",
        "files.download('df_vessels.csv')"
      ],
      "execution_count": null,
      "outputs": [
        {
          "output_type": "display_data",
          "data": {
            "application/javascript": [
              "\n",
              "    async function download(id, filename, size) {\n",
              "      if (!google.colab.kernel.accessAllowed) {\n",
              "        return;\n",
              "      }\n",
              "      const div = document.createElement('div');\n",
              "      const label = document.createElement('label');\n",
              "      label.textContent = `Downloading \"${filename}\": `;\n",
              "      div.appendChild(label);\n",
              "      const progress = document.createElement('progress');\n",
              "      progress.max = size;\n",
              "      div.appendChild(progress);\n",
              "      document.body.appendChild(div);\n",
              "\n",
              "      const buffers = [];\n",
              "      let downloaded = 0;\n",
              "\n",
              "      const channel = await google.colab.kernel.comms.open(id);\n",
              "      // Send a message to notify the kernel that we're ready.\n",
              "      channel.send({})\n",
              "\n",
              "      for await (const message of channel.messages) {\n",
              "        // Send a message to notify the kernel that we're ready.\n",
              "        channel.send({})\n",
              "        if (message.buffers) {\n",
              "          for (const buffer of message.buffers) {\n",
              "            buffers.push(buffer);\n",
              "            downloaded += buffer.byteLength;\n",
              "            progress.value = downloaded;\n",
              "          }\n",
              "        }\n",
              "      }\n",
              "      const blob = new Blob(buffers, {type: 'application/binary'});\n",
              "      const a = document.createElement('a');\n",
              "      a.href = window.URL.createObjectURL(blob);\n",
              "      a.download = filename;\n",
              "      div.appendChild(a);\n",
              "      a.click();\n",
              "      div.remove();\n",
              "    }\n",
              "  "
            ],
            "text/plain": [
              "<IPython.core.display.Javascript object>"
            ]
          },
          "metadata": {}
        },
        {
          "output_type": "display_data",
          "data": {
            "application/javascript": [
              "download(\"download_3c5b04ab-f336-4d35-bdd7-ace1670506e9\", \"df_vessels.csv\", 86625)"
            ],
            "text/plain": [
              "<IPython.core.display.Javascript object>"
            ]
          },
          "metadata": {}
        }
      ]
    }
  ]
}